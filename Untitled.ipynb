{
 "cells": [
  {
   "cell_type": "code",
   "execution_count": 1,
   "id": "66269855-f38d-4a2e-b007-c0b565571233",
   "metadata": {},
   "outputs": [],
   "source": [
    "import json\n",
    "file = \"./data/dataset/data/openaqa_5.6M.json\"\n",
    "\n",
    "with open(file, \"r\") as jsonFile:\n",
    "    data = json.load(jsonFile)"
   ]
  },
  {
   "cell_type": "code",
   "execution_count": 13,
   "id": "244e1719-e489-44af-a58b-c301ae8caf12",
   "metadata": {},
   "outputs": [],
   "source": [
    "datasets = []"
   ]
  },
  {
   "cell_type": "code",
   "execution_count": 3,
   "id": "6108058e-e845-4ec0-b9a2-d6c0c2ea110d",
   "metadata": {},
   "outputs": [
    {
     "data": {
      "text/plain": [
       "{'instruction': 'What other types of sounds would you expect to hear in the environment where the audio clip was recorded?',\n",
       " 'input': '',\n",
       " 'audio_id': '/data/sls/scratch/yuangong/dataset/clotho_v2/development_16k/20080614.bells.wav',\n",
       " 'dataset': 'clotho_development',\n",
       " 'task': 'open-ended question',\n",
       " 'output': 'Other sounds that could be expected include people talking, vehicles passing by, or the wind blowing.'}"
      ]
     },
     "execution_count": 3,
     "metadata": {},
     "output_type": "execute_result"
    }
   ],
   "source": [
    "data[0]"
   ]
  },
  {
   "cell_type": "code",
   "execution_count": 4,
   "id": "035c9f1c-8b5c-4db5-bb27-b0375f85ef1a",
   "metadata": {},
   "outputs": [],
   "source": [
    "for i in range(len(data)):\n",
    "    datasets.append(data[i]['dataset'])   "
   ]
  },
  {
   "cell_type": "code",
   "execution_count": 15,
   "id": "7caee089-d07a-4ef3-8c91-088de5c038ed",
   "metadata": {},
   "outputs": [
    {
     "data": {
      "text/plain": [
       "5681708"
      ]
     },
     "execution_count": 15,
     "metadata": {},
     "output_type": "execute_result"
    }
   ],
   "source": []
  },
  {
   "cell_type": "code",
   "execution_count": 5,
   "id": "58fd7280-b900-45f8-a462-6c658607b856",
   "metadata": {},
   "outputs": [
    {
     "data": {
      "text/plain": [
       "['as_2m',\n",
       " 'as_strong_train',\n",
       " 'clotho_development',\n",
       " 'audiocaps_val',\n",
       " 'sound_bible',\n",
       " 'vggsound_train',\n",
       " 'freesound_10s',\n",
       " 'clotho_validation',\n",
       " 'fsd50k_val',\n",
       " 'fsd50k_tr',\n",
       " 'as_20k',\n",
       " 'audiocaps_train']"
      ]
     },
     "execution_count": 5,
     "metadata": {},
     "output_type": "execute_result"
    }
   ],
   "source": [
    "list(set(datasets))"
   ]
  },
  {
   "cell_type": "code",
   "execution_count": 6,
   "id": "4cfdad33-a322-4075-962f-11cd16e58ebf",
   "metadata": {},
   "outputs": [
    {
     "data": {
      "text/plain": [
       "{'clotho_development': 0,\n",
       " 'as_strong_train': 0,\n",
       " 'fsd50k_tr': 0,\n",
       " 'freesound_10s': 0,\n",
       " 'as_20k': 0,\n",
       " 'vggsound_train': 0,\n",
       " 'audiocaps_val': 0,\n",
       " 'audiocaps_train': 0,\n",
       " 'fsd50k_val': 0,\n",
       " 'as_2m': 0,\n",
       " 'clotho_validation': 0,\n",
       " 'sound_bible': 0}"
      ]
     },
     "execution_count": 6,
     "metadata": {},
     "output_type": "execute_result"
    }
   ],
   "source": [
    "dataset_count = {}\n",
    "for i in range(len(datasets)):\n",
    "    dataset_count[datasets[i]] = 0\n",
    "    \n",
    "dataset_count"
   ]
  },
  {
   "cell_type": "code",
   "execution_count": 7,
   "id": "aef2b823-ccf5-4900-be97-6d33907656a2",
   "metadata": {},
   "outputs": [],
   "source": [
    "for i in range(len(datasets)):\n",
    "    dataset_count[data[i]['dataset']] += 1"
   ]
  },
  {
   "cell_type": "code",
   "execution_count": 8,
   "id": "7b68d177-c6cc-42ff-b2a0-ced24c85df1d",
   "metadata": {},
   "outputs": [
    {
     "data": {
      "text/plain": [
       "{'clotho_development': 106654,\n",
       " 'as_strong_train': 1584137,\n",
       " 'fsd50k_tr': 436091,\n",
       " 'freesound_10s': 882352,\n",
       " 'as_20k': 220972,\n",
       " 'vggsound_train': 1274803,\n",
       " 'audiocaps_val': 27323,\n",
       " 'audiocaps_train': 547349,\n",
       " 'fsd50k_val': 49294,\n",
       " 'as_2m': 500139,\n",
       " 'clotho_validation': 29855,\n",
       " 'sound_bible': 22739}"
      ]
     },
     "execution_count": 8,
     "metadata": {},
     "output_type": "execute_result"
    }
   ],
   "source": [
    "dataset_count"
   ]
  },
  {
   "cell_type": "code",
   "execution_count": 16,
   "id": "8460c1d2-f458-4c1f-80d3-f1b75b507eec",
   "metadata": {},
   "outputs": [
    {
     "data": {
      "text/plain": [
       "485385"
      ]
     },
     "execution_count": 16,
     "metadata": {},
     "output_type": "execute_result"
    }
   ],
   "source": [
    "49294 + 436091"
   ]
  },
  {
   "cell_type": "code",
   "execution_count": 12,
   "id": "c60c2267-569d-4009-83ed-3729704362ed",
   "metadata": {},
   "outputs": [
    {
     "name": "stdout",
     "output_type": "stream",
     "text": [
      "1190489\n"
     ]
    }
   ],
   "source": [
    "count = 0\n",
    "for i in range(len(data)):\n",
    "    if data[i]['task'].startswith(\"cla\"):\n",
    "        #print(train_dataset[i])\n",
    "        count += 1\n",
    "print(count)"
   ]
  },
  {
   "cell_type": "code",
   "execution_count": 9,
   "id": "cde521ca-cf3e-4413-ab4d-f1a3de26e6b0",
   "metadata": {},
   "outputs": [
    {
     "data": {
      "text/plain": [
       "{'clotho_development': 0,\n",
       " 'as_strong_train': 0,\n",
       " 'fsd50k_tr': 0,\n",
       " 'freesound_10s': 0,\n",
       " 'as_20k': 0,\n",
       " 'vggsound_train': 0,\n",
       " 'audiocaps_val': 0,\n",
       " 'audiocaps_train': 0,\n",
       " 'fsd50k_val': 0,\n",
       " 'as_2m': 0,\n",
       " 'clotho_validation': 0,\n",
       " 'sound_bible': 0}"
      ]
     },
     "execution_count": 9,
     "metadata": {},
     "output_type": "execute_result"
    }
   ],
   "source": [
    "dataset_count_cla = {}\n",
    "\n",
    "for i in range(len(datasets)):\n",
    "    dataset_count_cla[datasets[i]] = 0\n",
    "\n",
    "dataset_count_cla"
   ]
  },
  {
   "cell_type": "code",
   "execution_count": null,
   "id": "87dca911-08fd-4793-8ae2-5d5f0c264e5c",
   "metadata": {},
   "outputs": [],
   "source": [
    "dataset_count_cla = {}"
   ]
  },
  {
   "cell_type": "code",
   "execution_count": 11,
   "id": "3ae4fb25-eccf-4d92-bbf7-50b1dbf8e800",
   "metadata": {},
   "outputs": [],
   "source": [
    "for i in range(len(data)):\n",
    "    if data[i]['task'].startswith((\"cla\", \"cla_as\")):\n",
    "        dataset_count_cla[data[i]['dataset']] += 1"
   ]
  },
  {
   "cell_type": "code",
   "execution_count": 16,
   "id": "e43b3c52-1e61-4593-9e9d-d21c1b4ee3c8",
   "metadata": {},
   "outputs": [
    {
     "data": {
      "text/plain": [
       "{'clotho_development': 0,\n",
       " 'as_strong_train': 203582,\n",
       " 'fsd50k_tr': 73592,\n",
       " 'freesound_10s': 0,\n",
       " 'as_20k': 37382,\n",
       " 'vggsound_train': 367454,\n",
       " 'audiocaps_val': 0,\n",
       " 'audiocaps_train': 0,\n",
       " 'fsd50k_val': 8340,\n",
       " 'as_2m': 500139,\n",
       " 'clotho_validation': 0,\n",
       " 'sound_bible': 0}"
      ]
     },
     "execution_count": 16,
     "metadata": {},
     "output_type": "execute_result"
    }
   ],
   "source": [
    "dataset_count_cla\n",
    "# Audio classification"
   ]
  },
  {
   "cell_type": "code",
   "execution_count": null,
   "id": "c3575d83-b6bf-4af5-9148-23d4266061d0",
   "metadata": {},
   "outputs": [],
   "source": []
  }
 ],
 "metadata": {
  "kernelspec": {
   "display_name": "Python 3 (ipykernel)",
   "language": "python",
   "name": "python3"
  },
  "language_info": {
   "codemirror_mode": {
    "name": "ipython",
    "version": 3
   },
   "file_extension": ".py",
   "mimetype": "text/x-python",
   "name": "python",
   "nbconvert_exporter": "python",
   "pygments_lexer": "ipython3",
   "version": "3.12.3"
  }
 },
 "nbformat": 4,
 "nbformat_minor": 5
}
